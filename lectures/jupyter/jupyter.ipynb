{
 "cells": [
  {
   "cell_type": "code",
   "execution_count": null,
   "metadata": {
    "slideshow": {
     "slide_type": "skip"
    }
   },
   "outputs": [],
   "source": [
    "import seaborn as sns\n",
    "import pandas as pd\n",
    "import matplotlib.pyplot as plt\n",
    "from ipywidgets import interact\n",
    "import time\n",
    "%matplotlib inline\n",
    "%config InlineBackend.figure_format = 'svg'\n",
    "plt.style.use('seaborn-talk')"
   ]
  },
  {
   "cell_type": "markdown",
   "metadata": {
    "slideshow": {
     "slide_type": "slide"
    }
   },
   "source": [
    "<img src=\"https://jupyter.readthedocs.io/en/latest/_static/_images/jupyter.svg\" alt=\"title\" style=\"float: left;\">\n",
    "<br>\n",
    "<br>\n",
    "<br>\n",
    "\n",
    "---------\n",
    "_Connecting code and reporting_"
   ]
  },
  {
   "cell_type": "markdown",
   "metadata": {
    "slideshow": {
     "slide_type": "slide"
    }
   },
   "source": [
    "## Typical guidelines for keeping a notebook of wet-lab work"
   ]
  },
  {
   "cell_type": "code",
   "execution_count": null,
   "metadata": {
    "slideshow": {
     "slide_type": "skip"
    }
   },
   "outputs": [],
   "source": [
    "def guidelines(fontsize=9, x=2, y=9):\n",
    "    fig = plt.figure()\n",
    "    ax = fig.add_subplot(111)\n",
    "    ax.axis([0, 10, 0, 10])\n",
    "    guidelines = [\"Record everything you do in the lab, \\neven if you are following a published procedure.\",\n",
    "              \"If you make a mistake, put a line through the mistake\\n and write the new information next to it.\",\n",
    "              \"Use a ball point pen so that marks \\nwill not smear nor will they be erasable.\",\n",
    "              \"Use a bound notebook so that \\ntear-out would be visible.\",\n",
    "              \"When you finish a page, \\nput a corner-to corner line through\\n any blank parts that could \\nstill be used for data entry.\",\n",
    "              \"All pages must be pre-numbered.\",\n",
    "              \"Write a title for each and \\nevery new set of entries.\",\n",
    "              \"It is critical that you enter all procedures \\nand data directly into your notebook in a timely manner.\",\n",
    "              \"Properly introduce and \\nsummarize each experiment.\",\n",
    "              \"The investigator and \\nsupervisor must sign each page.\"]\n",
    "    for i, g in enumerate(guidelines, start=1):\n",
    "        ax.text(x, y, \"{}. {}\".format(i,g), fontdict={'ha': 'center', 'color': 'white', 'size': fontsize},\n",
    "            bbox={'facecolor': '#f37726', 'pad': 10})\n",
    "        if i%2 == 0:\n",
    "            x = 2\n",
    "            y = y-2\n",
    "        else:\n",
    "            x+=4.5\n",
    "    ax.axis('off')"
   ]
  },
  {
   "cell_type": "code",
   "execution_count": null,
   "metadata": {
    "slideshow": {
     "slide_type": "fragment"
    }
   },
   "outputs": [],
   "source": [
    "guidelines()"
   ]
  },
  {
   "cell_type": "markdown",
   "metadata": {
    "slideshow": {
     "slide_type": "slide"
    }
   },
   "source": [
    "## Typical guidelines for keeping a notebook of dry-lab work"
   ]
  },
  {
   "cell_type": "markdown",
   "metadata": {
    "slideshow": {
     "slide_type": "fragment"
    }
   },
   "source": [
    "<iframe src='https://gfycat.com/ifr/InconsequentialPerfumedGadwall' frameborder='0' scrolling='no' allowfullscreen width='640' height='396'></iframe><p> <a href=\"https://gfycat.com/inconsequentialperfumedgadwall\"></a></p>"
   ]
  },
  {
   "cell_type": "markdown",
   "metadata": {
    "slideshow": {
     "slide_type": "slide"
    }
   },
   "source": [
    "**Literate programming**\n",
    "\n",
    ">Instead of imagining that our main task is to instruct a computer what to do, let us concentrate rather on explaining to human beings what we want a computer to do. - _Donald Knuth (1984)_\n",
    "\n",
    "**Literate computing**\n",
    "\n",
    ">A literate computing environment is one that allows users not only to execute commands interactively, but also to store in a literate document the results of these commands along with figures and free-form text. - _Millman KJ and Perez F (2014)_\n",
    "\n",
    "**Wolfram Mathematica notebook (1987)**\n",
    "\n",
    "<img src=\"https://content.wolfram.com/uploads/sites/17/2019/08/1987_early_programs_2.png\" alt=\"title\" width=\"300\" style=\"float:left;\">"
   ]
  },
  {
   "cell_type": "markdown",
   "metadata": {
    "slideshow": {
     "slide_type": "slide"
    }
   },
   "source": [
    "## The Jupyter notebook"
   ]
  },
  {
   "cell_type": "markdown",
   "metadata": {
    "slideshow": {
     "slide_type": "fragment"
    }
   },
   "source": [
    "The Jupyter Notebook is a web application for **interactive** data science and scientific computing."
   ]
  },
  {
   "cell_type": "markdown",
   "metadata": {
    "slideshow": {
     "slide_type": "fragment"
    }
   },
   "source": [
    "In-browser editing for code, with automatic syntax highlighting, indentation, and tab completion/introspection."
   ]
  },
  {
   "cell_type": "markdown",
   "metadata": {
    "slideshow": {
     "slide_type": "subslide"
    }
   },
   "source": [
    "Document your work in Markdown"
   ]
  },
  {
   "cell_type": "markdown",
   "metadata": {
    "slideshow": {
     "slide_type": "fragment"
    }
   },
   "source": [
    "# Iris data analysis\n",
    "Here we will investigate the [Iris dataset](https://en.wikipedia.org/wiki/Iris_flower_data_set).\n",
    "\n",
    "-----\n",
    "The species included in this set are:\n",
    " - _Iris setosa_\n",
    " - _Iris versicolor_\n",
    " - _Iris virginica_"
   ]
  },
  {
   "cell_type": "markdown",
   "metadata": {
    "slideshow": {
     "slide_type": "subslide"
    }
   },
   "source": [
    "Execute code directly from the browser, with results attached to the code which generated them"
   ]
  },
  {
   "cell_type": "code",
   "execution_count": null,
   "metadata": {
    "slideshow": {
     "slide_type": "fragment"
    }
   },
   "outputs": [],
   "source": [
    "data = sns.load_dataset(\"iris\")\n",
    "data.groupby(\"species\").mean()"
   ]
  },
  {
   "cell_type": "markdown",
   "metadata": {
    "slideshow": {
     "slide_type": "subslide"
    }
   },
   "source": [
    "Generate plots directly in the browser and/or save to file."
   ]
  },
  {
   "cell_type": "code",
   "execution_count": null,
   "metadata": {
    "slideshow": {
     "slide_type": "skip"
    }
   },
   "outputs": [],
   "source": [
    "sns.set_context(\"paper\", rc={\"axes.labelsize\":10})"
   ]
  },
  {
   "cell_type": "code",
   "execution_count": null,
   "metadata": {
    "slideshow": {
     "slide_type": "fragment"
    }
   },
   "outputs": [],
   "source": [
    "ax = sns.pairplot(data, hue=\"species\", height=1.2, plot_kws=dict(s=20, linewidth=0.5), \n",
    "             diag_kws=dict(linewidth=0.5))"
   ]
  },
  {
   "cell_type": "code",
   "execution_count": null,
   "metadata": {
    "slideshow": {
     "slide_type": "skip"
    }
   },
   "outputs": [],
   "source": [
    "%load_ext rpy2.ipython"
   ]
  },
  {
   "cell_type": "markdown",
   "metadata": {
    "slideshow": {
     "slide_type": "subslide"
    }
   },
   "source": [
    "Mix and match languages in addition to `python` (_e.g._ `R`, `bash`, `ruby`)"
   ]
  },
  {
   "cell_type": "code",
   "execution_count": null,
   "metadata": {
    "slideshow": {
     "slide_type": "fragment"
    }
   },
   "outputs": [],
   "source": [
    "%%R\n",
    "x <- 1:12\n",
    "sample(x, replace = TRUE)"
   ]
  },
  {
   "cell_type": "code",
   "execution_count": null,
   "metadata": {
    "slideshow": {
     "slide_type": "fragment"
    }
   },
   "outputs": [],
   "source": [
    "%%bash\n",
    "uname -v"
   ]
  },
  {
   "cell_type": "markdown",
   "metadata": {
    "slideshow": {
     "slide_type": "subslide"
    }
   },
   "source": [
    "Create interactive widgets"
   ]
  },
  {
   "cell_type": "code",
   "execution_count": null,
   "metadata": {
    "slideshow": {
     "slide_type": "skip"
    }
   },
   "outputs": [],
   "source": [
    "from ipywidgets import interact\n",
    "import matplotlib.pyplot as plt"
   ]
  },
  {
   "cell_type": "code",
   "execution_count": null,
   "metadata": {
    "slideshow": {
     "slide_type": "fragment"
    }
   },
   "outputs": [],
   "source": [
    "def f(palette, x, y):\n",
    "    plt.figure(1, figsize=(3,3))\n",
    "    ax = sns.scatterplot(data=data, x=x, y=y, hue=\"species\", palette=palette)\n",
    "\n",
    "_ = interact(f, palette=[\"Set1\",\"Set2\",\"Dark2\",\"Paired\"], \n",
    "            y=[\"sepal_length\",\"sepal_width\",\"petal_length\",\"petal_width\"],\n",
    "            x=[\"sepal_width\",\"sepal_length\",\"petal_length\",\"petal_width\"])"
   ]
  }
 ],
 "metadata": {
  "celltoolbar": "Slideshow",
  "kernelspec": {
   "display_name": "Python 3",
   "language": "python",
   "name": "python3"
  },
  "language_info": {
   "codemirror_mode": {
    "name": "ipython",
    "version": 3
   },
   "file_extension": ".py",
   "mimetype": "text/x-python",
   "name": "python",
   "nbconvert_exporter": "python",
   "pygments_lexer": "ipython3",
   "version": "3.8.2"
  }
 },
 "nbformat": 4,
 "nbformat_minor": 4
}
