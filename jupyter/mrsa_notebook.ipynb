{
 "cells": [
  {
   "cell_type": "markdown",
   "metadata": {},
   "source": [
    "# MRSA workflow notebook"
   ]
  },
  {
   "cell_type": "markdown",
   "metadata": {},
   "source": [
    "In this notebook we will run a Snakemake workflow and explore its results."
   ]
  },
  {
   "cell_type": "code",
   "execution_count": null,
   "metadata": {},
   "outputs": [],
   "source": [
    "import pandas as pd\n",
    "import seaborn as sns\n",
    "import matplotlib.pyplot as plt\n",
    "import matplotlib.patches as mpatches\n",
    "%config InlineBackend.figure_format = 'svg'\n",
    "%matplotlib inline"
   ]
  },
  {
   "cell_type": "code",
   "execution_count": null,
   "metadata": {},
   "outputs": [],
   "source": [
    "def read_cov_tables(files):\n",
    "    \"\"\"Reads coverage tables for bedtools genomecov output\"\"\"\n",
    "    import os\n",
    "    df = pd.DataFrame()\n",
    "    samples = []\n",
    "    for i, f in enumerate(files):\n",
    "        sample = os.path.basename(f).rstrip(\".sorted.bam.cov.gz\")\n",
    "        _df = pd.read_csv(f, sep=\"\\t\", header=None, index_col=0, usecols=[1,2], names=[\"position\",sample])\n",
    "        if i==0:\n",
    "            df = _df.copy()\n",
    "        else:\n",
    "            df = pd.merge(df, _df, left_index=True, right_index=True, how=\"outer\")\n",
    "    return df\n",
    "\n",
    "def sliding_window(df, window=10000):\n",
    "    \"\"\"Sums aligned reads in a sliding window\"\"\"\n",
    "    start, end = df.index[0], df.index[-1]\n",
    "    prev = start\n",
    "    windows = {}\n",
    "    for x in list(range(start, end, window)):\n",
    "        if prev == x:\n",
    "            continue\n",
    "        windows[x] = df.loc[prev:x].sum().to_dict()\n",
    "        prev = x\n",
    "    # Add final window\n",
    "    if not end < list(range(start, end, window))[-1]:\n",
    "        windows[end] = df.loc[prev:end].sum().to_dict()\n",
    "    return pd.DataFrame(windows).T"
   ]
  }
 ],
 "metadata": {
  "kernelspec": {
   "display_name": "Python 3",
   "language": "python",
   "name": "python3"
  },
  "language_info": {
   "codemirror_mode": {
    "name": "ipython",
    "version": 3
   },
   "file_extension": ".py",
   "mimetype": "text/x-python",
   "name": "python",
   "nbconvert_exporter": "python",
   "pygments_lexer": "ipython3",
   "version": "3.6.8"
  }
 },
 "nbformat": 4,
 "nbformat_minor": 2
}
